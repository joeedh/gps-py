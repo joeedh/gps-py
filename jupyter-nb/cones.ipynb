{
 "cells": [
  {
   "cell_type": "code",
   "execution_count": null,
   "metadata": {},
   "outputs": [],
   "source": [
    "import numpy as np\n",
    "from meshplot import plot\n",
    "import igl\n",
    "\n",
    "\n",
    "def loop_gps(v, f, c, n):\n",
    "    # transform to 9D dual-space vertices\n",
    "    qq1 = np.zeros((len(v), 3))\n",
    "    qq2 = np.zeros((len(v), 3))\n",
    "    qlin = np.zeros((len(v), 3))\n",
    "    for i, cov in enumerate(c):\n",
    "        ic = np.linalg.inv(cov)\n",
    "        icf = ic.flatten()\n",
    "        qq1[i] = [icf[0],icf[1],icf[2]]\n",
    "        qq2[i] = [icf[4],icf[5],icf[8]]\n",
    "        qlin[i] = ic @ v[i]\n",
    "\n",
    "    # perform Gaussian-product subdivision\n",
    "    # note: igl.loop only handles 3D subdivs, so we split the 9D meshes into three 3D ones\n",
    "    for _ in range(n):\n",
    "        qq1, dmy = igl.loop(qq1, f)\n",
    "        qq2, dmy = igl.loop(qq2, f)\n",
    "        qlin, f  = igl.loop(qlin, f)\n",
    "    \n",
    "    # transform back to 3D\n",
    "    v = np.zeros((len(qlin), 3))\n",
    "    for i, ql in enumerate(qlin):\n",
    "        icov = [qq1[i],\n",
    "                [qq1[i][1], qq2[i][0], qq2[i][1]],\n",
    "                [qq1[i][2], qq2[i][1], qq2[i][2]]]\n",
    "        v[i] = np.linalg.inv(icov) @ ql\n",
    "        \n",
    "    return v, f"
   ]
  },
  {
   "cell_type": "code",
   "execution_count": null,
   "metadata": {},
   "outputs": [],
   "source": [
    "# create a cone\n",
    "v = np.array([\n",
    "    [0, 1.5, 0],\n",
    "    [1.41421, -1.5, -1.41421],[0, -1.5, -2], [-1.41421, -1.5, -1.41421],[-2, -1.5, 0],\n",
    "    [-1.41421, -1.5, 1.41421], [0, -1.5, 2], [1.41421, -1.5, 1.41421],[2, -1.5, 0]\n",
    "])\n",
    "\n",
    "f = np.array([[0, 1, 2],[0, 2, 3], [0, 3, 4], [0, 4, 5],[0, 5, 6],[0, 6, 7],[0, 7, 8],[0, 8, 1]])\n",
    "\n",
    "plot(v,f);"
   ]
  },
  {
   "cell_type": "code",
   "execution_count": null,
   "metadata": {
    "scrolled": false
   },
   "outputs": [],
   "source": [
    "# initialize with isotropic covariances\n",
    "c = [np.identity(3)*0.01 for i in range(len(v))]\n",
    "vs, fs = loop_gps(v, f, c, 5)\n",
    "\n",
    "# make apex covariance sharper\n",
    "c[0] *= 0.001\n",
    "vs2, fs2 = loop_gps(v, f, c, 5)\n",
    "\n",
    "# make apex covariance vertically anisotropic (reduce variance in x direction)\n",
    "c[0] = [[0.001,0,0],\n",
    "        [0,0.01,0],\n",
    "        [0,0,0.01]]\n",
    "vs3, fs3 = loop_gps(v, f, c, 5)\n",
    "\n",
    "# make apex covariance horizontally anisotropic (reduce variance in y direction)\n",
    "c[0] = [[0.01,0,0],\n",
    "        [0,0.001,0],\n",
    "        [0,0,0.01]]\n",
    "vs4, fs4 = loop_gps(v, f, c, 5)\n",
    "\n",
    "# make apex covariance horizontally anisotropic and super flat\n",
    "c[0] = [[1,0,0],\n",
    "        [0,0.00001,0],\n",
    "        [0,0,1]]\n",
    "vs5, fs5 = loop_gps(v, f, c, 5)\n",
    "\n",
    "\n",
    "# plot all the shapes next to each other\n",
    "vo = np.array([4,0,0])\n",
    "fo = len(vs)\n",
    "C = np.concatenate((vs, vs2 + vo, vs3 + 2*vo, vs4 + 3*vo, vs5 + 4*vo))\n",
    "F = np.concatenate((fs, fs2 + fo, fs3 + 2*fo, fs4 + 3*fo, fs5 + 4*fo))\n",
    "\n",
    "p = plot(C, F, shading={'flat':True, 'scale':2}, return_plot=True);\n",
    "p.add_lines(v[f[:,0]], v[f[:,1]], shading={\"line_color\": \"black\"});\n",
    "p.add_lines(v[f[:,1]], v[f[:,2]], shading={\"line_color\": \"black\"});\n"
   ]
  }
 ],
 "metadata": {
  "kernelspec": {
   "display_name": "Python 3",
   "language": "python",
   "name": "python3"
  },
  "language_info": {
   "codemirror_mode": {
    "name": "ipython",
    "version": 3
   },
   "file_extension": ".py",
   "mimetype": "text/x-python",
   "name": "python",
   "nbconvert_exporter": "python",
   "pygments_lexer": "ipython3",
   "version": "3.8.1"
  }
 },
 "nbformat": 4,
 "nbformat_minor": 4
}
