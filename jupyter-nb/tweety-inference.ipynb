{
 "cells": [
  {
   "cell_type": "code",
   "execution_count": 6,
   "metadata": {
    "scrolled": false
   },
   "outputs": [
    {
     "name": "stdout",
     "output_type": "stream",
     "text": [
      "192 vertices, 380 faces\n"
     ]
    },
    {
     "data": {
      "application/vnd.jupyter.widget-view+json": {
       "model_id": "2c14126fe0fc406aa06518938a06fbab",
       "version_major": 2,
       "version_minor": 0
      },
      "text/plain": [
       "Renderer(camera=PerspectiveCamera(children=(DirectionalLight(color='white', intensity=0.6, position=(0.0763504…"
      ]
     },
     "metadata": {},
     "output_type": "display_data"
    }
   ],
   "source": [
    "import igl\n",
    "import scipy as sp\n",
    "import numpy as np\n",
    "from meshplot import plot\n",
    "import os\n",
    "import copy\n",
    "root_folder = \"..\"\n",
    "\n",
    "\n",
    "# define mesh struct\n",
    "class Mesh: \n",
    "    v = []\n",
    "    f = []   \n",
    "        \n",
    "# load input triangle mesh\n",
    "mesh = Mesh()\n",
    "mesh.v, mesh.f = igl.read_triangle_mesh(os.path.join(root_folder, \"data\", \"tweety.off\"))\n",
    "\n",
    "print(len(mesh.v), \"vertices,\", len(mesh.f), \"faces\")\n",
    "plot(mesh.v, mesh.f);"
   ]
  },
  {
   "cell_type": "code",
   "execution_count": 7,
   "metadata": {
    "scrolled": false
   },
   "outputs": [
    {
     "data": {
      "application/vnd.jupyter.widget-view+json": {
       "model_id": "f64cd335072646e5b456248a0c3b19c2",
       "version_major": 2,
       "version_minor": 0
      },
      "text/plain": [
       "Renderer(camera=PerspectiveCamera(children=(DirectionalLight(color='white', intensity=0.6, position=(0.0814258…"
      ]
     },
     "metadata": {},
     "output_type": "display_data"
    }
   ],
   "source": [
    "# perform ordinary Loop subdivison\n",
    "\n",
    "lmesh = copy.deepcopy(mesh);\n",
    "for _ in range(4):\n",
    "    lmesh.v, lmesh.f = igl.loop(lmesh.v, lmesh.f)\n",
    "\n",
    "plot(lmesh.v, lmesh.f);"
   ]
  },
  {
   "cell_type": "code",
   "execution_count": 8,
   "metadata": {},
   "outputs": [
    {
     "data": {
      "application/vnd.jupyter.widget-view+json": {
       "model_id": "9797515c07d44c9eababfaee064d8175",
       "version_major": 2,
       "version_minor": 0
      },
      "text/plain": [
       "Renderer(camera=PerspectiveCamera(children=(DirectionalLight(color='white', intensity=0.6, position=(0.0774408…"
      ]
     },
     "metadata": {},
     "output_type": "display_data"
    }
   ],
   "source": [
    "# Gaussian Inference via product of face Gaussians (Eq. 16 and 17)\n",
    "\n",
    "cm = Mesh()\n",
    "cm.v = mesh.v.copy()\n",
    "cm.f = mesh.f.copy()\n",
    "\n",
    "# create list of empty (inverse) covariances\n",
    "icov = np.zeros((len(mesh.v),3,3))\n",
    "\n",
    "\n",
    "# 1. infer face covs and inverse vertex covs\n",
    "for f in cm.f:\n",
    "    # compute covariance of face vertices\n",
    "    cov = np.zeros((3,3))\n",
    "    sum = np.zeros(3)\n",
    "    for j in [1,2]:\n",
    "        v = cm.v[f[j]] - cm.v[f[0]]\n",
    "        sum += v\n",
    "        cov += np.outer(v,v)\n",
    "    cov = cov/3 - np.outer(sum,sum)/9\n",
    "    # bias covariance by some fraction of its dominant eigenvalue\n",
    "    bias = np.linalg.eigvalsh(cov)[2] * 0.05\n",
    "    cov += np.identity(3) * bias\n",
    "    # inverse cov at vertices is given by the sum of inverse of surrounding face covs\n",
    "    for fv in f:\n",
    "        icov[fv] += np.linalg.inv(cov)\n",
    "    \n",
    "\n",
    "# 2. transform to 9D dual-space vertices\n",
    "qq1 = np.zeros((len(cm.v), 3))\n",
    "qq2 = np.zeros((len(cm.v), 3))\n",
    "qlin = np.zeros((len(cm.v), 3))\n",
    "for i, ic in enumerate(icov):\n",
    "    icf = ic.flatten()\n",
    "    qq1[i] = [icf[0],icf[1],icf[2]]\n",
    "    qq2[i] = [icf[4],icf[5],icf[8]]\n",
    "    qlin[i] = ic @ cm.v[i]\n",
    "\n",
    "\n",
    "# 3. perform Gaussian-product subdivision\n",
    "#    note: igl.loop only handles 3D subdivs, so we split the 9D meshes into three 3D ones\n",
    "for _ in range(4):\n",
    "    qq1, f = igl.loop(qq1, cm.f)\n",
    "    qq2, f = igl.loop(qq2, cm.f)\n",
    "    qlin, cm.f = igl.loop(qlin, cm.f)\n",
    "\n",
    "    \n",
    "# 4. transform back to 3D\n",
    "cm.v = np.zeros((len(qlin),3))\n",
    "for i, ql in enumerate(qlin):\n",
    "    icov = [qq1[i],\n",
    "            [qq1[i][1], qq2[i][0], qq2[i][1]],\n",
    "            [qq1[i][2], qq2[i][1], qq2[i][2]]]\n",
    "    cm.v[i] = np.linalg.inv(icov) @ ql\n",
    "    \n",
    "plot(cm.v, cm.f);"
   ]
  },
  {
   "cell_type": "code",
   "execution_count": 10,
   "metadata": {},
   "outputs": [
    {
     "data": {
      "application/vnd.jupyter.widget-view+json": {
       "model_id": "8d11715666a948358509fdc518413161",
       "version_major": 2,
       "version_minor": 0
      },
      "text/plain": [
       "Renderer(camera=PerspectiveCamera(children=(DirectionalLight(color='white', intensity=0.6, position=(0.3353126…"
      ]
     },
     "metadata": {},
     "output_type": "display_data"
    }
   ],
   "source": [
    "# side-by-side comparison\n",
    "v = np.concatenate((lmesh.v, cm.v +  [0.5,0,-0.6]))\n",
    "f = np.concatenate((lmesh.f, cm.f + len(lmesh.v)))\n",
    "plot(v,f);"
   ]
  }
 ],
 "metadata": {
  "kernelspec": {
   "display_name": "Python 3",
   "language": "python",
   "name": "python3"
  },
  "language_info": {
   "codemirror_mode": {
    "name": "ipython",
    "version": 3
   },
   "file_extension": ".py",
   "mimetype": "text/x-python",
   "name": "python",
   "nbconvert_exporter": "python",
   "pygments_lexer": "ipython3",
   "version": "3.8.1"
  }
 },
 "nbformat": 4,
 "nbformat_minor": 4
}
